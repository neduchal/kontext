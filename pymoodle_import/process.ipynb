{
 "cells": [
  {
   "cell_type": "code",
   "execution_count": 26,
   "metadata": {},
   "outputs": [],
   "source": [
    "from sqlite3 import complete_statement\n",
    "from docx import Document\n",
    "import os\n",
    "import os.path\n",
    "import string\n",
    "import glob \n",
    "import sys"
   ]
  },
  {
   "cell_type": "code",
   "execution_count": 27,
   "metadata": {},
   "outputs": [
    {
     "name": "stdout",
     "output_type": "stream",
     "text": [
      "Vstupni soubor: Test A 59-24-B2,R3,4.docx\n"
     ]
    }
   ],
   "source": [
    "input_file = \"./input/Test A 59-24-B2,R3,4.docx\"\n",
    "#input_file = \"./input/_5-24-B1,R3,4.docx\"\n",
    "print(\"Vstupni soubor:\", os.path.basename(input_file))"
   ]
  },
  {
   "cell_type": "code",
   "execution_count": 28,
   "metadata": {},
   "outputs": [],
   "source": [
    "alphabet = \"ABCDEF\"\n",
    "without_short = False\n",
    "\n",
    "document =  Document(input_file)\n",
    "\n",
    "cloze_text = []\n",
    "first_task = []\n",
    "second_task = []\n",
    "completed_text = []\n",
    "questions = []\n",
    "state = 0\n",
    "second_task_text = \"\"\n",
    "second_task_words = [] \n",
    "\n",
    "add_source = 0"
   ]
  },
  {
   "cell_type": "code",
   "execution_count": 29,
   "metadata": {},
   "outputs": [],
   "source": [
    "for par in document.paragraphs:\n",
    "    if len(par.text) == 0 or par.text == \"\\n\":\n",
    "        continue\n",
    "    \n",
    "    if (state == 0):\n",
    "        \n",
    "        if  (par.text[0:7].lower() == \"source:\") :\n",
    "            continue\n",
    "        if (len(par.text) == 1):\n",
    "            continue\n",
    "        if (state == 0) and (\"Five clauses/sentences have been removed from the text.\" in par.text):\n",
    "            state = state + 1\n",
    "            first_task.append(par.text)\n",
    "            continue     \n",
    "        cloze_text.append(par.text)\n",
    "    elif (state == 1) : \n",
    "        first_task.append(par.text)\n",
    "        if (\"answers\" in par.text.lower()):\n",
    "            state = state + 1 \n",
    "            if without_short:\n",
    "                state = state + 1\n",
    "    elif (state == 2) : \n",
    "        second_task.append(par.text)\n",
    "        if (\"answers\" in par.text.lower()):\n",
    "            state = state + 1         \n",
    "    elif (state == 3) : \n",
    "        if (len(par.text) == 1):\n",
    "            continue\n",
    "        completed_text.append(par.text)\n",
    "        if (par.text[0:7].lower() == \"source:\"):\n",
    "            add_source = 1 \n",
    "        if (len(completed_text) == len(cloze_text)+add_source):\n",
    "            state = state + 1 \n",
    "    elif(state == 4):\n",
    "        questions.append(par.text)"
   ]
  },
  {
   "cell_type": "code",
   "execution_count": 30,
   "metadata": {},
   "outputs": [
    {
     "name": "stdout",
     "output_type": "stream",
     "text": [
      "6 3270\n"
     ]
    }
   ],
   "source": [
    "print(len(cloze_text), len(\"\".join(cloze_text)))"
   ]
  },
  {
   "cell_type": "code",
   "execution_count": 31,
   "metadata": {},
   "outputs": [
    {
     "name": "stdout",
     "output_type": "stream",
     "text": [
      "7 3384\n"
     ]
    }
   ],
   "source": [
    "print(len(completed_text), len(\"\".join(completed_text)))"
   ]
  },
  {
   "cell_type": "code",
   "execution_count": 32,
   "metadata": {},
   "outputs": [
    {
     "name": "stdout",
     "output_type": "stream",
     "text": [
      "Why roboticists should prioritize human factors\t\n",
      "Human systems engineering aims to combine engineering and psychology to create systems that are designed to work with humans’ capabilities and limitations. Interest in the subject has grown among government agencies, like NASA, as well as in private sectors like cybersecurity and defense. More and more, we’re seeing robots used in real-world situations that have to (1)__________________ with people. In manufacturing and warehouse settings, it’s common to see collaborative robots (cobots) and autonomous mobile robots (AMRs) work alongside humans with no fencing or restrictions to divide them. \n",
      "Dr. Kelly Hale of Draper, a nonprofit engineering innovation company, has seen that human factor principles are too often an afterthought in the robotics development process. She explained that roboticists should (2)__________________ that can successfully work with humans. Specifically, Hale outlined three connecting ideas that roboticists should keep in mind: 1. start with your end g___ in mind, 2. consider how human and robot limitations and strengths can work together, and 3. minimize communication to make it as efficient as possible. \n",
      "It’s important that human factors are considered at every stage of the development process, not just at the end when you’re beginning to put a finished system into the world, according to Dr. Hale. “There’s not as many tweaks and changes that can be made at the end of the process,” Dr. Hale said. “Whereas if we were brought in earlier, some small design changes probably would have m___ that interface even more useful.” Once the hardware capabilities of a system are set, Dr. Hale’s team has to work around those parameters. In the early design phase, researchers should consider not only how a system functions but where and how a human comes in. “I like to start with the end in mind,” Dr. Hale said. “And really, that’s the operational impact of whatever I’m designing, whether it’s an operational system, whether it’s a training system, whatever it is. I think that’s a key notion of the human-centered system, really saying, okay, at the end of the day, how do I (3)_________________ to the user through this increased capability?” \n",
      "Working with human and robot limitations is really about combining humans and technology in the best w___ so that the overall system can be more capable than the parts. Dr. Hale explained: “So more useful than a human by themselves or a machine or a system by themselves.” There are many questions roboticists should ask themselves early (4)_________________. Roboticists should have an understanding of human capabilities and limitations and think about whether they’re being effectively considered in the system’s design, according to Dr. Hale. \n",
      "Another key point to consider when building systems to work with humans is building trust with the people working with them. It’s important for people working alongside robots to understand what the robot can do and trust that it will do it all the t___. (5)_________________, Hale said, the robotic development process can be greatly shortened, resulting in a robot that not only works better for the people who need to work with it but can also be quickly adapted to various environments.\t\n"
     ]
    }
   ],
   "source": [
    "for p in cloze_text:\n",
    "    print(p)"
   ]
  },
  {
   "cell_type": "code",
   "execution_count": 33,
   "metadata": {},
   "outputs": [
    {
     "name": "stdout",
     "output_type": "stream",
     "text": [
      "Why roboticists should prioritize human factors\t\n",
      "Source: www.therobotreport.com/why-roboticists-should-prioritize-human-factors\n",
      "Human systems engineering aims to combine engineering and psychology to create systems that are designed to work with humans’ capabilities and limitations. Interest in the subject has grown among government agencies, like NASA, as well as in private sectors like cybersecurity and defense. More and more, we’re seeing robots used in real-world situations that have to work alongside or directly with people. In manufacturing and warehouse settings, it’s common to see collaborative robots (cobots) and autonomous mobile robots (AMRs) work alongside humans with no fencing or restrictions to divide them. \n",
      "Dr. Kelly Hale of Draper, a nonprofit engineering innovation company, has seen that human factor principles are too often an afterthought in the robotics development process. She explained that roboticists should keep in mind to make robots that can successfully work with humans. Specifically, Hale outlined three connecting ideas that roboticists should keep in mind: 1. start with your end goal in mind, 2. consider how human and robot limitations and strengths can work together, and 3. minimize communication to make it as efficient as possible. \n",
      "It’s important that human factors are considered at every stage of the development process, not just at the end when you’re beginning to put a finished system into the world, according to Dr. Hale. “There’s not as many tweaks and changes that can be made at the end of the process,” Dr. Hale said. “Whereas if we were brought in earlier, some small design changes probably would have made that interface even more useful.” Once the hardware capabilities of a system are set, Dr. Hale’s team has to work around those parameters. In the early design phase, researchers should consider not only how a system functions but where and how a human comes in. “I like to start with the end in mind,” Dr. Hale said. “And really, that’s the operational impact of whatever I’m designing, whether it’s an operational system, whether it’s a training system, whatever it is. I think that’s a key notion of the human-centered system, really saying, okay, at the end of the day, how do I want to provide value to the user through this increased capability?” \n",
      "Working with human and robot limitations is really about combining humans and technology in the best way so that the overall system can be more capable than the parts. Dr. Hale explained: “So more useful than a human by themselves or a machine or a system by themselves.” There are many questions roboticists should ask themselves early in the process of building their systems. Roboticists should have an understanding of human capabilities and limitations and think about whether they’re being effectively considered in the system’s design, according to Dr. Hale. \n",
      "Another key point to consider when building systems to work with humans is building trust with the people working with them. It’s important for people working alongside robots to understand what the robot can do and trust that it will do it all the time. With these things in mind, Hale said, the robotic development process can be greatly shortened, resulting in a robot that not only works better for the people who need to work with it but can also be quickly adapted to various environments.\t\n"
     ]
    }
   ],
   "source": [
    "for p in completed_text:\n",
    "    print(p)"
   ]
  },
  {
   "cell_type": "code",
   "execution_count": 34,
   "metadata": {},
   "outputs": [
    {
     "name": "stdout",
     "output_type": "stream",
     "text": [
      "1) Five clauses/sentences have been removed from the text. Read the text and then fill in the gaps. There are two extra clauses/sentences.\n",
      "with these things in mind\n",
      "corresponding work of engineers\n",
      "work alongside or directly\n",
      "in the process of building their systems\n",
      "want to provide value \n",
      "keep in mind to make robots \n",
      "provides more opportunities\n",
      "ANSWERS: 1A, 2D, 3E, 4F, 5C\n"
     ]
    }
   ],
   "source": [
    "for item in first_task:\n",
    "    print(item)"
   ]
  },
  {
   "cell_type": "code",
   "execution_count": 35,
   "metadata": {},
   "outputs": [
    {
     "name": "stdout",
     "output_type": "stream",
     "text": [
      "1) Five clauses/sentences have been removed from the text. Read the text and then fill in the gaps. There are two extra clauses/sentences.\n",
      "['with these things in mind', 'corresponding work of engineers', 'work alongside or directly', 'in the process of building their systems', 'want to provide value ', 'keep in mind to make robots ', 'provides more opportunities']\n"
     ]
    }
   ],
   "source": [
    "first_task_text = first_task[0]\n",
    "first_task_options = first_task[1:-1]\n",
    "\n",
    "for i in range(len(first_task_options)-1, 0, -1):\n",
    "    if first_task_options[i] == \"\" or first_task_options[i].find(\"ANSWERS\") != -1:\n",
    "        first_task_options.pop(i)\n",
    "\n",
    "print(first_task_text)\n",
    "print(first_task_options)"
   ]
  },
  {
   "cell_type": "code",
   "execution_count": 36,
   "metadata": {},
   "outputs": [
    {
     "name": "stdout",
     "output_type": "stream",
     "text": [
      "2) Fill in the 4 missing words. Each gap should have only ONE word as the answer. The first letter is already given, so provide the rest of your answer with the remaining letters only.\n",
      "ANSWERS: (g)oal, (m)ade, (w)ay, (t)ime\n"
     ]
    }
   ],
   "source": [
    "for item in second_task:\n",
    "    print(item)"
   ]
  },
  {
   "cell_type": "code",
   "execution_count": 37,
   "metadata": {},
   "outputs": [
    {
     "name": "stdout",
     "output_type": "stream",
     "text": [
      "According to the text, what is the goal of human systems engineering?\n",
      "   A) To create systems in which robots work with robots\n",
      "   B) To design systems that add to human capabilities\n",
      "   C) To replace humans with robots\n",
      "ANSWER: B\n",
      "According to the text, the interest in human systems engineering has grown mainly among government agencies and private sectors.\n",
      "   A. True\n",
      "   B. False\n",
      "ANSWER: A\n",
      "What are examples of robots mentioned in the text?\n",
      "   A) Televisions and smartphones\n",
      "   B) Collaborative robots and autonomous mobile robots\n",
      "   C) Smart devices and AI technologies\n",
      "ANSWER: B\n",
      " According to Dr. Kelly Hale, roboticists should consider only the end goal of the project. \n",
      "   A. True\n",
      "   B. False\n",
      "ANSWER: B\n",
      "Why does Dr. Hale emphasize considering human factors throughout the development process?\n",
      "   A) To make the systems smarter and more complicated\n",
      "   B) To make the interface easy to understand\n",
      "   C) To avoid making too many small changes at the end\n",
      "ANSWER: C\n",
      " What is one key aspect of building systems to work with humans, according to the text?\n",
      "   A) Ignoring human trust and user feedback\n",
      "   B) Increasing communication inside the system to make it less efficient \n",
      "   C) Building trust with the people working with the systems\n",
      "ANSWER: C\n"
     ]
    }
   ],
   "source": [
    "for item in questions:\n",
    "    print(item)"
   ]
  }
 ],
 "metadata": {
  "kernelspec": {
   "display_name": "Python 3",
   "language": "python",
   "name": "python3"
  },
  "language_info": {
   "codemirror_mode": {
    "name": "ipython",
    "version": 3
   },
   "file_extension": ".py",
   "mimetype": "text/x-python",
   "name": "python",
   "nbconvert_exporter": "python",
   "pygments_lexer": "ipython3",
   "version": "3.12.4"
  }
 },
 "nbformat": 4,
 "nbformat_minor": 2
}
