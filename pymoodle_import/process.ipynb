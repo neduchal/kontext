{
 "cells": [
  {
   "cell_type": "code",
   "execution_count": 78,
   "metadata": {},
   "outputs": [],
   "source": [
    "from sqlite3 import complete_statement\n",
    "from docx import Document\n",
    "import os\n",
    "import os.path\n",
    "import string\n",
    "import glob \n",
    "import sys"
   ]
  },
  {
   "cell_type": "code",
   "execution_count": 79,
   "metadata": {},
   "outputs": [
    {
     "name": "stdout",
     "output_type": "stream",
     "text": [
      "Vstupni soubor: _5-24-B1,R3,4.docx\n"
     ]
    }
   ],
   "source": [
    "input_file = \"/home/neduchal/Projekty/Kontext/kontext/pymoodle_import/input/_5-24-B1,R3,4.docx\"\n",
    "print(\"Vstupni soubor:\", os.path.basename(input_file))"
   ]
  },
  {
   "cell_type": "code",
   "execution_count": 80,
   "metadata": {},
   "outputs": [],
   "source": [
    "alphabet = \"ABCDEF\"\n",
    "without_short = False\n",
    "\n",
    "document =  Document(input_file)\n",
    "\n",
    "cloze_text = []\n",
    "first_task = []\n",
    "second_task = []\n",
    "completed_text = []\n",
    "questions = []\n",
    "state = 0\n",
    "second_task_text = \"\"\n",
    "second_task_words = [] \n",
    "\n",
    "add_source = 0"
   ]
  },
  {
   "cell_type": "code",
   "execution_count": 81,
   "metadata": {},
   "outputs": [],
   "source": [
    "for par in document.paragraphs:\n",
    "    if len(par.text) == 0 or par.text == \"\\n\":\n",
    "        continue\n",
    "    \n",
    "    if (state == 0):\n",
    "        \n",
    "        if  (par.text[0:7].lower() == \"source:\") :\n",
    "            continue\n",
    "        if (len(par.text) == 1):\n",
    "            continue\n",
    "        if (state == 0) and (\"Five clauses/sentences have been removed from the text.\" in par.text):\n",
    "            state = state + 1\n",
    "            first_task.append(par.text)\n",
    "            continue     \n",
    "        cloze_text.append(par.text)\n",
    "    elif (state == 1) : \n",
    "        first_task.append(par.text)\n",
    "        if (\"answers\" in par.text.lower()):\n",
    "            state = state + 1 \n",
    "            if without_short:\n",
    "                state = state + 1\n",
    "    elif (state == 2) : \n",
    "        second_task.append(par.text)\n",
    "        if (\"answers\" in par.text.lower()):\n",
    "            state = state + 1         \n",
    "    elif (state == 3) : \n",
    "        if (len(par.text) == 1):\n",
    "            continue\n",
    "        completed_text.append(par.text)\n",
    "        if (par.text[0:7].lower() == \"source:\"):\n",
    "            add_source = 1 \n",
    "        if (len(completed_text) == len(cloze_text)+1+add_source):\n",
    "            state = state + 1 \n",
    "    elif(state == 4):\n",
    "        questions.append(par.text)"
   ]
  },
  {
   "cell_type": "code",
   "execution_count": 82,
   "metadata": {},
   "outputs": [
    {
     "name": "stdout",
     "output_type": "stream",
     "text": [
      "6 3120\n"
     ]
    }
   ],
   "source": [
    "print(len(cloze_text), len(\"\".join(cloze_text)))"
   ]
  },
  {
   "cell_type": "code",
   "execution_count": 83,
   "metadata": {},
   "outputs": [
    {
     "name": "stdout",
     "output_type": "stream",
     "text": [
      "8 3250\n"
     ]
    }
   ],
   "source": [
    "print(len(completed_text), len(\"\".join(completed_text)))"
   ]
  },
  {
   "cell_type": "code",
   "execution_count": 84,
   "metadata": {},
   "outputs": [
    {
     "name": "stdout",
     "output_type": "stream",
     "text": [
      "Hybrid Work Can’t Stop Mentorship. Here’s Why\t\t\n",
      "One of the most common arguments against hybrid work is that you can’t mentor people when you're not working closely to each o____, monitoring their growth and development. While it’s true that there’s no substitute for face-to-face, one-on-one personal meetings and collaboration—getting to know a colleague over drinks, dinner, or a long plane ride together, for example—when it comes to mentorship and coaching, there are (1)_________________  in hybrid and, perhaps, even make it work better! \n",
      "Here are several suggestions to make it work for you: First, make sure you meet initially in person. Hybrid doesn't mean 100% online. A lot of people get that wrong. The reason hybrid is the dominant work model coming out of the global pandemic is because we found out during those dark days, as researchers have found, that some things are done better together, in the office, and some things are done just as well or better apart, (2)_________________. It requires real face time to build any relationship for mentorship purposes or any other. It doesn't have to be often. But it has to be where you begin. You go out to dinner or drinks and get to know the person you plan to mentor on a personal level.  \n",
      "Second, plan and take notes to remember. After you get to know the person you’re taking under your wing, write down what you learned so you don’t forget: their spouse or partner’s name, their children’s names and ages, where they’re originally f___, where (3)_________________, what they do for fun, what their career plans are, what they're working on, what they’re particularly good at. When you have remote mentoring interactions, don’t hesitate to refer to your notes so you can ask about the family, or how a specific project is going. Trust me: It’ll make them happy that you remembered. Be sure to keep a regular record of your conversations and update it every time you have an interaction. \n",
      "Third, See something; say something. If the individual you’re mentoring does something fantastic that impresses you, or you hear a colleague, client or customer say something positive about his or her work, send a personal note congratulating them. You can call or message them and say: “I heard you did an amazing job on… (fill in the blank). Well done!” On the other hand, if they're sitting quietly, (4)_________________ a private message encouraging them to jump in if you know they h___ something to say. “You should speak up. I know you have a lot of expertise in this area.” Follow up with a “well done” note right after they speak. \n",
      "Last but not least, be there. Coaching and mentoring activities can’t always be scheduled in advance. Some of it, by necessity, will always be spontaneous: when a problem arises, when the person you’re mentoring (5)_________________ two equally appealing, or equally unappealing, courses of action, or when he or she just needs to t___ about something. Helping people work though such matters is also part of the job. With all of this in mind, you can see that coaching and mentoring can be fruitful in a hybrid work environment.\n"
     ]
    }
   ],
   "source": [
    "for p in cloze_text:\n",
    "    print(p)"
   ]
  },
  {
   "cell_type": "code",
   "execution_count": 85,
   "metadata": {},
   "outputs": [
    {
     "name": "stdout",
     "output_type": "stream",
     "text": [
      "Hybrid Work Can’t Stop Mentorship. Here’s Why\t\t\n",
      "Source: www.forbes.com/sites/deborahlovich/2024/02/07/hybrid-work-cant-stop-mentorship-heres-why\n",
      "Here is the text without gaps.\n",
      "One of the most common arguments against hybrid work is that you can’t mentor people when you're not working closely to each other, monitoring their growth and development. While it’s true that there’s no substitute for face-to-face, one-on-one personal meetings and collaboration—getting to know a colleague over drinks, dinner, or a long plane ride together, for example—when it comes to mentorship and coaching, there are many ways to make it work in hybrid and, perhaps, even make it work better! \n",
      "Here are several suggestions to make it work for you: First, make sure you meet initially in person. Hybrid doesn't mean 100% online. A lot of people get that wrong. The reason hybrid is the dominant work model coming out of the global pandemic is because we found out during those dark days, as researchers have found, that some things are done better together, in the office, and some things are done just as well or better apart, away from office distractions. It requires real face time to build any relationship for mentorship purposes or any other. It doesn't have to be often. But it has to be where you begin. You go out to dinner or drinks and get to know the person you plan to mentor on a personal level.  \n",
      "Second, plan and take notes to remember. After you get to know the person you’re taking under your wing, write down what you learned so you don’t forget: their spouse or partner’s name, their children’s names and ages, where they’re originally from, where they went to school, what they do for fun, what their career plans are, what they're working on, what they’re particularly good at. When you have remote mentoring interactions, don’t hesitate to refer to your notes so you can ask about the family, or how a specific project is going. Trust me: It’ll make them happy that you remembered. Be sure to keep a regular record of your conversations and update it every time you have an interaction. \n",
      "Third, See something; say something. If the individual you’re mentoring does something fantastic that impresses you, or you hear a colleague, client or customer say something positive about his or her work, send a personal note congratulating them. You can call or message them and say: “I heard you did an amazing job on… (fill in the blank). Well done!” On the other hand, if they're sitting quietly, you can send a private message encouraging them to jump in if you know they have something to say. “You should speak up. I know you have a lot of expertise in this area.” Follow up with a “well done” note right after they speak. \n",
      "Last but not least, be there. Coaching and mentoring activities can’t always be scheduled in advance. Some of it, by necessity, will always be spontaneous: when a problem arises, when the person you’re mentoring can’t decide between two equally appealing, or equally unappealing, courses of action, or when he or she just needs to talk about something. Helping people work though such matters is also part of the job. With all of this in mind, you can see that coaching and mentoring can be fruitful in a hybrid work environment.\n"
     ]
    }
   ],
   "source": [
    "for p in completed_text:\n",
    "    print(p)"
   ]
  },
  {
   "cell_type": "code",
   "execution_count": 87,
   "metadata": {},
   "outputs": [
    {
     "name": "stdout",
     "output_type": "stream",
     "text": [
      "1. Five clauses/sentences have been removed from the text. Read the text and then fill in the gaps. There are two extra clauses/sentences.\n",
      "can’t decide between \n",
      "they went to school\n",
      "many ways to make it work\n",
      "you can send \n",
      "away from office distractions\n",
      "fewer things to say\n",
      "to organise your time together\n",
      "ANSWERS: 1C, 2E, 3B, 4D, 5A\n"
     ]
    }
   ],
   "source": [
    "for item in first_task:\n",
    "    print(item)"
   ]
  },
  {
   "cell_type": "code",
   "execution_count": 94,
   "metadata": {},
   "outputs": [
    {
     "name": "stdout",
     "output_type": "stream",
     "text": [
      "6\n",
      "5\n",
      "4\n",
      "3\n",
      "2\n",
      "1\n",
      "1. Five clauses/sentences have been removed from the text. Read the text and then fill in the gaps. There are two extra clauses/sentences.\n",
      "['can’t decide between ', 'they went to school', 'many ways to make it work', 'you can send ', 'away from office distractions', 'fewer things to say', 'to organise your time together']\n"
     ]
    }
   ],
   "source": [
    "first_task_text = first_task[0]\n",
    "first_task_options = first_task[1:-1]\n",
    "\n",
    "for i in range(len(first_task_options)-1, 0, -1):\n",
    "    if first_task_options[i] == \"\" or first_task_options[i].find(\"ANSWERS\") != -1:\n",
    "        first_task_options.pop(i)\n",
    "\n",
    "print(first_task_text)\n",
    "print(first_task_options)"
   ]
  },
  {
   "cell_type": "code",
   "execution_count": 88,
   "metadata": {},
   "outputs": [
    {
     "name": "stdout",
     "output_type": "stream",
     "text": [
      "2. Fill in the 4 missing words. Each gap should have only ONE word as the answer. The first letter is already given, so provide the rest of your answer with the remaining letters only.\n",
      "ANSWERS: (o)ther, (f)rom, (h)ave, (t)alk\n"
     ]
    }
   ],
   "source": [
    "for item in second_task:\n",
    "    print(item)"
   ]
  },
  {
   "cell_type": "code",
   "execution_count": 90,
   "metadata": {},
   "outputs": [
    {
     "name": "stdout",
     "output_type": "stream",
     "text": [
      "According to the text, what is a common concern people have about hybrid work in terms of mentorship?\n",
      "   Mentoring people when you do not work closely together is almost impossible.\n",
      "   Hybrid work decreases the need for mentorship.\n",
      "   Hybrid work means organising personal meetings.\n",
      "ANSWER: A\n",
      "According to the text, why is it important to initially meet in person for hybrid mentorship?\n",
      "   A. Because online meetings are always ineffective.\n",
      "   B. It is important to establish a personal connection.\n",
      "   C. It can help in stressful situations.\n",
      "ANSWER: B\n",
      "According to the text, coaching and mentoring in a hybrid work environment can be effective.\n",
      "   A. True\n",
      "   B. False\n",
      "ANSWER: A\n",
      "According to the text, keeping notes about your mentee is helpful because \n",
      "   A. it helps you remember personal details about them.\n",
      "   B. it is a common practice in all companies.\n",
      "   C. you maintain a professional distance.\n",
      "ANSWER: A\n",
      "What should you do if you notice your mentee doing something impressive?\n",
      "   A. Wait until your next scheduled meeting to discuss it.\n",
      "   B. Send a personal note or message saying they did a great job.\n",
      "   C. Talk about it with your supervisor.\n",
      "ANSWER: B\n",
      "According to the text, spontaneous mentoring moments should be planned ahead of time.   \n",
      "   A. True\n",
      "   B. False\n",
      "ANSWER: A\n"
     ]
    }
   ],
   "source": [
    "for item in questions:\n",
    "    print(item)"
   ]
  }
 ],
 "metadata": {
  "kernelspec": {
   "display_name": "Python 3",
   "language": "python",
   "name": "python3"
  },
  "language_info": {
   "codemirror_mode": {
    "name": "ipython",
    "version": 3
   },
   "file_extension": ".py",
   "mimetype": "text/x-python",
   "name": "python",
   "nbconvert_exporter": "python",
   "pygments_lexer": "ipython3",
   "version": "3.10.12"
  }
 },
 "nbformat": 4,
 "nbformat_minor": 2
}
